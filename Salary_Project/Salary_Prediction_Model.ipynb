{
 "cells": [
  {
   "cell_type": "code",
   "execution_count": null,
   "id": "e3c2adc6",
   "metadata": {},
   "outputs": [],
   "source": [
    "import pandas as pd\n",
    "import sklearn\n",
    "from sklearn import svm,preprocessing\n",
    "from sklearn.linear_model import LinearRegression\n",
    "import pickle\n",
    "import sys"
   ]
  },
  {
   "cell_type": "code",
   "execution_count": null,
   "id": "171de300",
   "metadata": {},
   "outputs": [],
   "source": [
    "df = pd.read_csv(\"https://raw.githubusercontent.com/dsrscientist/dataset3/main/Salaries.csv\")\n",
    "print(df)"
   ]
  },
  {
   "cell_type": "code",
   "execution_count": null,
   "id": "b7d60dbf",
   "metadata": {},
   "outputs": [],
   "source": [
    "sys.setrecursionlimit(1000)\n",
    "\n",
    "pd.set_option(\"display.max_columns\", None)\n",
    "df = pd.read_csv(\"https://raw.githubusercontent.com/dsrscientist/dataset3/main/Salaries.csv\")\n",
    "\n",
    "# Creating dictionaries\n",
    "rank_dict = {\"Prof\": 1, \"AssocProf\": 2, \"AsstProf\": 3}\n",
    "discipline_dict = {\"A\": 1, \"B\": 2}\n",
    "sex_dict = {\"Male\": 1, \"Female\": 2}\n",
    "\n",
    "# Mapping of columns\n",
    "df[\"rank\"] = df[\"rank\"].map(rank_dict)\n",
    "df[\"discipline\"] = df[\"discipline\"].map(discipline_dict)\n",
    "df[\"sex\"] = df[\"sex\"].map(sex_dict)\n",
    "\n",
    "def predict_salary(i):\n",
    "    \n",
    "    global df\n",
    "    global X_train,y_train\n",
    "    global X_test,y_test\n",
    "    global clf\n",
    "    global z\n",
    "    \n",
    "    # df = sklearn.utils.shuffle(df)\n",
    "    \n",
    "    # Assign features\n",
    "    X = df.drop(\"salary\", axis=1).values\n",
    "    \n",
    "    # Assign label\n",
    "    y = df[\"salary\"].values\n",
    "    \n",
    "    df = sklearn.utils.shuffle(df)\n",
    "    test_size = 10\n",
    "    \n",
    "    X_train = X[:-test_size]\n",
    "    y_train = y[:-test_size]\n",
    "    \n",
    "    X_test = X[-test_size:]\n",
    "    y_test = y[-test_size:]\n",
    "    \n",
    "    clf = LinearRegression(n_jobs = -1)\n",
    "    clf.fit(X_train, y_train)\n",
    "    \n",
    "    r_squared = clf.score(X_test,y_test)\n",
    "    print(\"Test \"+ str(i) + \" accuracy score : \" + str(r_squared))\n",
    "\n",
    "\n",
    "for i in range(1, 11):\n",
    "    predict_salary(i)\n",
    "\n",
    "z = 1\n",
    "for X,y in list(zip(X_test, y_test))[:20]:\n",
    "    percentage_difference = round((y - clf.predict([X])[0]) / y *100,2)\n",
    "    print(f\"Model Predicts : {clf.predict([X])[0]}, Real Value: {y}, Percentage Difference: {percentage_difference}%\")\n",
    "    z += 1\n",
    "    "
   ]
  },
  {
   "cell_type": "code",
   "execution_count": null,
   "id": "4f7de6d7",
   "metadata": {},
   "outputs": [],
   "source": []
  },
  {
   "cell_type": "code",
   "execution_count": null,
   "id": "8c02f9e8",
   "metadata": {},
   "outputs": [],
   "source": []
  }
 ],
 "metadata": {
  "kernelspec": {
   "display_name": "Python 3 (ipykernel)",
   "language": "python",
   "name": "python3"
  },
  "language_info": {
   "codemirror_mode": {
    "name": "ipython",
    "version": 3
   },
   "file_extension": ".py",
   "mimetype": "text/x-python",
   "name": "python",
   "nbconvert_exporter": "python",
   "pygments_lexer": "ipython3",
   "version": "3.9.7"
  }
 },
 "nbformat": 4,
 "nbformat_minor": 5
}
